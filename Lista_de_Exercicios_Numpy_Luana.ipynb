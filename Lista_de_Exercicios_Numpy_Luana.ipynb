{
  "cells": [
    {
      "cell_type": "markdown",
      "metadata": {
        "id": "view-in-github",
        "colab_type": "text"
      },
      "source": [
        "<a href=\"https://colab.research.google.com/github/luanatocchio/tecprog1_Luana_Tocchio/blob/main/Lista_de_Exercicios_Numpy_Luana.ipynb\" target=\"_parent\"><img src=\"https://colab.research.google.com/assets/colab-badge.svg\" alt=\"Open In Colab\"/></a>"
      ]
    },
    {
      "cell_type": "markdown",
      "metadata": {
        "id": "dDhJSUbSE6hI"
      },
      "source": [
        "# Lista de Exercícios de Numpy\n",
        "\n",
        "Deverá ser entrege até **11/02/2023** por meio do github que foi informado por vocês no [formulário](https://forms.office.com/r/YV12vEXGYF) respondido na aula de 01/02.\n",
        "\n",
        "A entrega pela github é parte da avaliação."
      ]
    },
    {
      "cell_type": "code",
      "source": [
        "import numpy as np"
      ],
      "metadata": {
        "id": "So9qCj2-UILv"
      },
      "execution_count": null,
      "outputs": []
    },
    {
      "cell_type": "markdown",
      "metadata": {
        "id": "eX5x6-bjE6hN"
      },
      "source": [
        "## Questão 1\n",
        "\n",
        "Crie um array 100 com valores aleatórios e ache os valores máximo e mínimo"
      ]
    },
    {
      "cell_type": "code",
      "execution_count": null,
      "metadata": {
        "id": "kYKS_ae1E6hP",
        "colab": {
          "base_uri": "https://localhost:8080/"
        },
        "outputId": "16ed9798-a83d-4385-fe26-7329092ae613"
      },
      "outputs": [
        {
          "output_type": "stream",
          "name": "stdout",
          "text": [
            "[ 39  59  57  33  38  72  53  96  96  42  16  86  50  26   6  97  46  84\n",
            "  80  21  22  71  21  65  95  69  83  58  36  51  27  50  84  57  78  75\n",
            "  21  99  85 100   4   8  15  80  87  28  83  45  86  61  50  77  30  18\n",
            "  58   3  58  79  87   3  96  46  57  40  90  19   5  78  73  43   8  52\n",
            "  97  19  89  82  92  18  73  73   9  27  26  48  37  84  45  61  92  38\n",
            "  63  75  48  85  47  79  70  41  27  95]\n",
            "100\n",
            "3\n"
          ]
        }
      ],
      "source": [
        "arr = np.random.randint(1, 101, 100)\n",
        "print(arr)\n",
        "arrMax = arr.max()\n",
        "arrMin = arr.min()\n",
        "print(arrMax)\n",
        "print(arrMin)"
      ]
    },
    {
      "cell_type": "markdown",
      "metadata": {
        "id": "qT9pSHp4E6hQ"
      },
      "source": [
        "## Questão 2\n",
        "Em Geometria Analítica, um **vetor** é uma quantidade que pode ser definida por um énuplo (uma sequência ordenada de *n* elementos) em que cada elemento representa a intensidade do vetor na direção especificada pela i-ésima componente desta sequência. \n",
        "\n",
        "Quando pensamos em duas dimensões, por exemplo, o vetor $R = (b,a)$ define, geometricamente, a entidade representada na figura abaixo, com componentes nos eixos x e y usuais.\n",
        "\n",
        "<img src = \"https://static.todamateria.com.br/upload/im/ag/image-721.jpg?auto_optimize=low\" />\n",
        "\n",
        "O **módulo** deste vetor, também chamado de intensidade, está geometricamente relacionado ao seu comprimento, e pode ser calculado diretamente pelas suas componentes, por meio de uma operação conhecida como **produto escalar** do vetor com ele mesmo. O módulo quadrático é expresso, desta forma, por:\n",
        "\n",
        "$|A|^2 = \\vec{A} \\cdot \\vec{A}$\n",
        "\n",
        "Por outro lado, o produto escalar entre dois vetores $A = (a_{x}, a_{y})$ e $B = (b_{x}, b_{y})$ é dado por:\n",
        "\n",
        "$\\vec{A} \\cdot \\vec{B} = a_{x} \\times b_{x} + a_{y} \\times b_{y}$ (e esta definição vale para qualquer que seja a dimensão do vetor).\n",
        "\n",
        "O módulo quadrático de um vetor é, portanto:\n",
        "\n",
        "$|A|² = a_{x}^2 + b_{x}^2$."
      ]
    },
    {
      "cell_type": "markdown",
      "metadata": {
        "id": "-ZU6W86sE6hT"
      },
      "source": [
        "Dado o exposto acima, escreva uma função que retorne o módulo de um vetor n-dimensional qualquer."
      ]
    },
    {
      "cell_type": "code",
      "execution_count": null,
      "metadata": {
        "id": "xIwAp3J4TPX5"
      },
      "outputs": [],
      "source": [
        "import numpy as np"
      ]
    },
    {
      "cell_type": "code",
      "execution_count": null,
      "metadata": {
        "id": "PdKKKvShE6hT",
        "outputId": "1f1efcc0-6525-4571-973d-d59fd6c81400"
      },
      "outputs": [
        {
          "name": "stdout",
          "output_type": "stream",
          "text": [
            "25.3 µs ± 8.44 µs per loop (mean ± std. dev. of 7 runs, 100,000 loops each)\n"
          ]
        }
      ],
      "source": [
        "%%timeit \n",
        "\n",
        "def modulo(vetor):\n",
        "  return (np.sum(vetor**2))**(1/2)\n",
        "\n",
        "#dim = int(input('Qual a dimensão do vetor?'))\n",
        "#vetor = np.random.randint(0,100,dim)\n",
        "\n",
        "modulo(np.array([22, 70]))"
      ]
    },
    {
      "cell_type": "code",
      "execution_count": null,
      "metadata": {
        "id": "dwc9-skrTPX9",
        "outputId": "fdd8fdd5-3065-4ea4-fb73-c68a1fdbeab2"
      },
      "outputs": [
        {
          "name": "stdout",
          "output_type": "stream",
          "text": [
            "13.9 µs ± 3.26 µs per loop (mean ± std. dev. of 7 runs, 100,000 loops each)\n"
          ]
        }
      ],
      "source": [
        "%%timeit \n",
        "def modulo(vetor):\n",
        "  modulo=((vetor*vetor).sum())**(1/2)\n",
        "  return modulo\n",
        "\n",
        "modulo(np.array([22, 70]))"
      ]
    },
    {
      "cell_type": "code",
      "execution_count": null,
      "metadata": {
        "id": "cFTbOPYNTPX9",
        "outputId": "0e90f4be-520e-44f4-a011-62624bc675a6"
      },
      "outputs": [
        {
          "name": "stdout",
          "output_type": "stream",
          "text": [
            "10.8 µs ± 1.3 µs per loop (mean ± std. dev. of 7 runs, 100,000 loops each)\n"
          ]
        }
      ],
      "source": [
        "%%timeit \n",
        "def modulo_vetor(arr):\n",
        "  mod = np.sqrt((arr**2).sum())\n",
        "  return mod\n",
        "\n",
        "modulo_vetor(np.array([22, 70]))"
      ]
    },
    {
      "cell_type": "code",
      "execution_count": null,
      "metadata": {
        "id": "LuCfSPLkTPX-",
        "outputId": "8766360e-1ba1-4c9c-a6af-09bf17ab850d"
      },
      "outputs": [
        {
          "name": "stdout",
          "output_type": "stream",
          "text": [
            "15.8 µs ± 5.63 µs per loop (mean ± std. dev. of 7 runs, 100,000 loops each)\n"
          ]
        }
      ],
      "source": [
        "%%timeit \n",
        "def modulo_vetor(vetor):\n",
        "    return np.linalg.norm(vetor)\n",
        "\n",
        "modulo_vetor(np.array([22, 70]))"
      ]
    },
    {
      "cell_type": "markdown",
      "metadata": {
        "id": "CRZdfzLgE6hU"
      },
      "source": [
        "## Questão 3\n",
        "\n",
        "Em uma **análise de regressão**, usualmente estamos interessados em descrever relações entre variáveis de um dado conjunto de dados por meio de uma **função** que descreva, o tanto quanto possível, estas relações.\n",
        "\n",
        "Por exemplo, no gráfico abaixo, os pontos vermelhos relacionam as medidas das duas variáveis sendo avaliadas (nos eixos x e y); e a linha azul aproxima a relação entre elas por uma função linear."
      ]
    },
    {
      "cell_type": "markdown",
      "metadata": {
        "id": "180Vp7AZE6hV"
      },
      "source": [
        "![Normdist_regression.png](https://miro.medium.com/v2/resize:fit:786/format:webp/1*LEmBCYAttxS6uI6rEyPLMQ.png)"
      ]
    },
    {
      "cell_type": "markdown",
      "metadata": {
        "id": "oQ1RFXOAE6hV"
      },
      "source": [
        "É possível ver que nem todos os pontos obedecem exatamente à relação ditada pela reta (isto é, há pontos que não estão exatamente \"sobre a reta\"; mas, sim, ligeraimente acima, ou abaixo, dela). Isto, contudo, é esperado em um modelo de regressão, por inúmeras fontes de incerteza associadas às medições."
      ]
    },
    {
      "cell_type": "markdown",
      "metadata": {
        "id": "XGWoc_O2E6hW"
      },
      "source": [
        "Uma das métricas que utilizamos para avaliar a qualidade de uma regressão é o **erro quadrático médio (EQM)**, que mensura a diferença total entre cada predição da regressão ($y_{prediction}$; que no nosso caso seriam os valores de y para a reta azul) com o valor real de cada i-ésima medida ($y_{i}$; que no nosso caso seriam as coordenadas y para cada ponto vermelho do gráfico). O EQM pode ser definido como:"
      ]
    },
    {
      "cell_type": "markdown",
      "metadata": {
        "id": "CjgOdTD6E6hX"
      },
      "source": [
        "$EQM = \\frac{1}{n}\\sum_{i=1}^{n}(y_{prediction} - y_{i})^2$."
      ]
    },
    {
      "cell_type": "markdown",
      "metadata": {
        "id": "qeXCrbmbE6hY"
      },
      "source": [
        "Isto posto, escreva uma função que calcule o EQM recebendo, como entrada, os vetores $y_{prediction}$ e $y_{i}$. Por exemplo, digamos que sua função se chame *calculate_eqm*, ela deve operar da seguinte forma:"
      ]
    },
    {
      "cell_type": "markdown",
      "metadata": {
        "id": "W1aaHMFPTPYA"
      },
      "source": [
        "```python\n",
        "\n",
        "# dados dois arrays quaisquer de mesmo tamanho, a função deve retornar o EQM\n",
        "y_prediction = np.array([1,2,3])\n",
        "y_i = np.array([0,0,3])\n",
        "calculate_eqm(y_prediction,y_i)\n",
        "\n",
        ">>> 1.6666666666666665\n",
        "\n",
        "```"
      ]
    },
    {
      "cell_type": "code",
      "execution_count": null,
      "metadata": {
        "id": "bwiTGuuoE6hb"
      },
      "outputs": [],
      "source": [
        "import numpy as np\n",
        "def calculate_eqm(y_pred, y_i):\n",
        "  dif_quad = (y_pred - y_i)**2\n",
        "  EQM = dif_quad.sum()/y_pred.size\n",
        "  return EQM"
      ]
    },
    {
      "cell_type": "markdown",
      "metadata": {
        "id": "Wh0_a8PjE6hc"
      },
      "source": [
        "## Questão 4\n",
        "\n",
        "Crie um array 2D (bidimensional) com 1 na borda e 0 dentro"
      ]
    },
    {
      "cell_type": "code",
      "source": [
        "arr = np.ones((3,3), dtype=int)\n",
        "arr[1,1] = 0\n",
        "print(arr)"
      ],
      "metadata": {
        "colab": {
          "base_uri": "https://localhost:8080/"
        },
        "id": "EHR_H_2YUtKo",
        "outputId": "243252d8-19ff-4cb6-d25a-bbef04d29f81"
      },
      "execution_count": null,
      "outputs": [
        {
          "output_type": "stream",
          "name": "stdout",
          "text": [
            "[[1 1 1]\n",
            " [1 0 1]\n",
            " [1 1 1]]\n"
          ]
        }
      ]
    },
    {
      "cell_type": "markdown",
      "metadata": {
        "id": "U1CntgkZE6hc"
      },
      "source": [
        "## Questão 5\n",
        "\n",
        "Como adicionar uma borda de 0's ao redor de um array 2D (bidimensional) existente"
      ]
    },
    {
      "cell_type": "code",
      "source": [
        "def criar_matriz_bordada(linhas, colunas):\n",
        "    dimensão = (linhas, colunas)\n",
        "    matriz = np.zeros(dimensão)\n",
        "    \n",
        "    # Preenche as bordas da matriz com 1\n",
        "    matriz[:, 0] = 1\n",
        "    matriz[0, :] = 1\n",
        "    matriz[-1, :] = 1\n",
        "    matriz[:, -1] = 1\n",
        "    \n",
        "    return matriz"
      ],
      "metadata": {
        "id": "EFmQE03PUztg"
      },
      "execution_count": null,
      "outputs": []
    },
    {
      "cell_type": "code",
      "source": [
        "criar_matriz_bordada(4,8)"
      ],
      "metadata": {
        "colab": {
          "base_uri": "https://localhost:8080/"
        },
        "id": "ghfxTIT1XHH7",
        "outputId": "f4d4c074-5d8d-4af3-ab89-6729f8622f86"
      },
      "execution_count": null,
      "outputs": [
        {
          "output_type": "execute_result",
          "data": {
            "text/plain": [
              "array([[1., 1., 1., 1., 1., 1., 1., 1.],\n",
              "       [1., 0., 0., 0., 0., 0., 0., 1.],\n",
              "       [1., 0., 0., 0., 0., 0., 0., 1.],\n",
              "       [1., 1., 1., 1., 1., 1., 1., 1.]])"
            ]
          },
          "metadata": {},
          "execution_count": 10
        }
      ]
    },
    {
      "cell_type": "markdown",
      "metadata": {
        "id": "qHh149eAE6hd"
      },
      "source": [
        "## Questão 6\n",
        "\n",
        " A eletroencefalografia (EEG) é uma técnica que mensura potenciais elétricos cerebrais em diversas regiões do escalpo do paciente. Suponha que você recebeu um conjunto de dados na forma de uma matriz de 64 x 512 elementos, em que cada linha contém o sinal gravado em um dos **eletrodos** espalhados pelo escalpo em um exame de EEG, e cada coluna contém um valor de potencial elétrico, em microvolts. "
      ]
    },
    {
      "cell_type": "markdown",
      "metadata": {
        "id": "BRDY8u09E6hd"
      },
      "source": [
        "Como o sinal de EEG é muito suscetível a ruídos externos (interferências na qualidade do sinal), uma operação comum para atenuar a interferência no sinal consiste em tirar a média do potencial elétrico de todos os eletrodos, e subtrair este valor de cada um deles. Isto atenua fontes de ruído ao sinal comuns a todos os eletrodos. Em termos matemáticos, o sinal processado por esta operação, $X_{e,i}$ para cada eletrodo (e) e amostra (i), é dado por:"
      ]
    },
    {
      "cell_type": "markdown",
      "metadata": {
        "id": "NHLeT5deE6he"
      },
      "source": [
        "$X_{e,i} = \\hat{X_{e,i}} - \\frac{1}{N}\\sum_{e=1}^{N}\\hat{X_{e,i}}$,\n",
        "\n",
        "em que $\\hat{X_{e,i}}$ representa o sinal original (ou seja, é a matriz de entrada de 64 x 512 elementos), e $N$ indica o total de eletrodos."
      ]
    },
    {
      "cell_type": "markdown",
      "metadata": {
        "id": "ToiE-omdE6he"
      },
      "source": [
        "Com o exposto acima, escreva uma função que retorne uma matriz com os sinais de EEG processados conforme a operação mencionada. Sua função deve operar conforme o exemplo abaixo."
      ]
    },
    {
      "cell_type": "markdown",
      "metadata": {
        "id": "ocyAuK2yTPYC"
      },
      "source": [
        "```python\n",
        "\n",
        "# vamos supor uma matriz de entrada gerada por dados aleatórios\n",
        "X = np.random.randn(64,512)\n",
        "X.shape # apenas para verificar as dimensões\n",
        ">>> (64, 512)\n",
        "\n",
        "# a função deve executar a operação equacionada anteriormente, retornando uma nova matriz\n",
        "X_processado = process_EEG_signal(X)\n",
        "X_processado.shape\n",
        ">>> (64, 512)\n",
        "\n",
        "# Somando as diferenças entre cada elemento das duas matrizes, apenas para ilustrar que elas não são iguais\n",
        "(X_processado - X).sum()\n",
        ">>> -53.08727366483029\n",
        "\n",
        "# Visualizando as matrizes, para verificar uma vez mais que, de fato, os elementos são diferentes\n",
        "X\n",
        ">>> array([[ 0.29305925,  0.89663038, -0.61032202, ..., -0.88086364,\n",
        "        -0.8818789 ,  0.51260497],\n",
        "       [-0.01274415,  1.05439522,  0.47958092, ..., -2.15387924,\n",
        "         0.70721168,  0.97029889],\n",
        "       [ 1.09478371, -0.16120847,  1.58400361, ...,  0.20981813,\n",
        "         2.17373837,  0.94032162],\n",
        "       ...,\n",
        "       [-0.45294842, -2.28939505,  1.10111998, ...,  1.63581703,\n",
        "        -0.39394924, -1.13400723],\n",
        "       [-0.22669886,  0.25413429, -1.17870637, ..., -0.09509442,\n",
        "         0.90733806,  0.37999411],\n",
        "       [ 0.15476933, -0.03654717, -1.09982762, ...,  0.67600047,\n",
        "        -0.84533328, -0.56433144]])\n",
        "\n",
        "# Matriz após o processamento descrito no enunciado\n",
        "X_processado\n",
        "\n",
        ">>> array([[ 0.36713022,  0.85772513, -0.54902169, ..., -0.85626087,\n",
        "        -0.97611435,  0.51718998],\n",
        "       [ 0.06132682,  1.01548997,  0.54088126, ..., -2.12927647,\n",
        "         0.61297623,  0.97488389],\n",
        "       [ 1.16885469, -0.20011372,  1.64530394, ...,  0.23442091,\n",
        "         2.07950292,  0.94490663],\n",
        "       ...,\n",
        "       [-0.37887744, -2.3283003 ,  1.16242031, ...,  1.6604198 ,\n",
        "        -0.4881847 , -1.12942223],\n",
        "       [-0.15262788,  0.21522904, -1.11740604, ..., -0.07049164,\n",
        "         0.81310261,  0.38457911],\n",
        "       [ 0.22884031, -0.07545242, -1.03852729, ...,  0.70060324,\n",
        "        -0.93956874, -0.55974643]])\n",
        "\n",
        "```"
      ]
    },
    {
      "cell_type": "code",
      "execution_count": null,
      "metadata": {
        "id": "OlxjvCnQE6hj"
      },
      "outputs": [],
      "source": [
        "# Solução"
      ]
    },
    {
      "cell_type": "markdown",
      "metadata": {
        "id": "7Gy6nTwQE6hj"
      },
      "source": [
        "## Questão 7\n",
        "\n",
        "Em estatística, um **outlier** é um valor que destoa consideravelmente da distribuição à qual está associado. Um dos critérios para idenficar outliers consiste em encontrar a **distância interquantil** (IQR), ou seja, a diferença entre o terceiro (Q3) e o primeiro quartis (Q1) da distribuição, e tomar como outliers todos os pontos abaixo do Limite Inferior (LI = Q1 - 1.5*IQR  ), ou acima do Limite Superior (LS = Q3 + 1.5*IQR)."
      ]
    },
    {
      "cell_type": "markdown",
      "metadata": {
        "id": "9BsI3sXPTPYD"
      },
      "source": [
        "![image.png](https://s3-sa-east-1.amazonaws.com/lcpi/0d8a7b04-b982-4e6b-9fc7-fbb062247d8d.png)\n"
      ]
    },
    {
      "cell_type": "markdown",
      "metadata": {
        "id": "CP-NkMHTE6hk"
      },
      "source": [
        "<img src = \"https://blog.curso-r.com/images/posts/banner/outlier.webp\" />"
      ]
    },
    {
      "cell_type": "markdown",
      "metadata": {
        "id": "BLDJN5JPE6hk"
      },
      "source": [
        "Escreva uma função que, dada uma matriz de dados de entrada de dimensões $N_{observações} \\times N_{features}$ retorne três requisitos: \n",
        "- uma matriz booleana indicando a existência de outliers nos dados de entrada;\n",
        "- a quantidade de outliers\n",
        "- quem são os outliers (os valores)."
      ]
    },
    {
      "cell_type": "markdown",
      "metadata": {
        "id": "wwVcP2uZE6hl"
      },
      "source": [
        "**Algumas definições:**\n",
        "- um *quantil* divide a distribuição, após ordenados os pontos, segundo algum ponto de corte;\n",
        "- o **primeiro quartil** é o ponto para o qual 25 % dos valores da distribuição estão abaixo dele;\n",
        "- o **terceiro quartil** é o ponto para o qual 75 % dos valores da distribuição estão abaixo dele.\n",
        "\n",
        "Pode ser útil consultar a função **numpy.quantile**."
      ]
    },
    {
      "cell_type": "markdown",
      "metadata": {
        "id": "C9nCKXhjE6hm"
      },
      "source": [
        "Exemplo de operação da função:"
      ]
    },
    {
      "cell_type": "markdown",
      "metadata": {
        "id": "2nxnyJPDTPYE"
      },
      "source": [
        "```python\n",
        "# Geremos um conjunto de dados qualquer\n",
        "X = np.random.randn(300,15)\n",
        "X\n",
        "\n",
        ">>> array([[-2.02108952,  0.57945921, -2.23074965, ..., -0.60349514,\n",
        "         0.92180452, -0.15625722],\n",
        "       [ 0.24904397,  0.03493447,  0.3515052 , ..., -0.46950081,\n",
        "         0.20361331,  0.02715956],\n",
        "       [ 0.55902525, -0.48435434,  0.90413414, ..., -0.54425743,\n",
        "        -0.80769134, -0.07912549],\n",
        "       ...,\n",
        "       [-1.04069388, -0.24245725, -2.00308877, ...,  0.4084777 ,\n",
        "        -1.81516131,  0.39063118],\n",
        "       [-1.39275097,  0.3989636 ,  0.2926223 , ...,  1.2620666 ,\n",
        "         0.72262949,  1.50737559],\n",
        "       [ 0.15922011, -0.79810788, -1.60939896, ..., -0.08214499,\n",
        "        -0.13167475,  0.15990558]])\n",
        "\n",
        "\n",
        "# identificamos os requisitos com nossa com nossa função \"locate_outliers\"\n",
        "is_outlier, outliers_count, outliers = locate_outliers(X)\n",
        "\n",
        "is_outlier\n",
        ">>> array([[False, False, False, ..., False, False, False],\n",
        "       [False, False, False, ..., False, False, False],\n",
        "       [False, False, False, ..., False, False, False],\n",
        "       ...,\n",
        "       [False, False, False, ..., False, False, False],\n",
        "       [False, False, False, ..., False, False, False],\n",
        "       [False, False, False, ..., False, False, False]])\n",
        "\n",
        "outliers_count\n",
        ">>> 44\n",
        "\n",
        "outliers\n",
        ">>> array([-2.67240384,  3.00270904,  3.62317101,  3.18867865,  2.55581522,\n",
        "       -2.82091429,  2.8757892 ,  2.70666036,  3.19514999, -3.40550318,\n",
        "       -3.39825827,  2.6727295 ,  2.54498296, -2.69447104,  3.19521603,\n",
        "        2.66372172, -2.77444948,  2.77421152,  2.69992869, -2.84831109,\n",
        "       -2.83695779, -2.45908227,  3.07802106,  2.89314015, -2.68574682,\n",
        "       -2.85019494,  2.43399574,  2.44291266, -2.92595937, -2.95911074,\n",
        "       -3.03966003,  2.77543068, -2.67368414, -2.79965402, -3.0501958 ,\n",
        "       -2.5437387 ,  3.08550649, -3.17666255, -3.05795476, -3.09826467,\n",
        "        3.1399469 ,  3.18141942,  2.90564257, -2.89505054])\n",
        "\n",
        " ``` "
      ]
    },
    {
      "cell_type": "code",
      "execution_count": null,
      "metadata": {
        "id": "AdTkst5UE6hq"
      },
      "outputs": [],
      "source": [
        "# Solução"
      ]
    },
    {
      "cell_type": "markdown",
      "metadata": {
        "id": "upNDn96PE6hq"
      },
      "source": [
        "## Questão 8\n",
        "\n",
        "Crie um vetor com valores que vão de 1 até 21 de dois em dois, a partir da função arange"
      ]
    },
    {
      "cell_type": "code",
      "execution_count": null,
      "metadata": {
        "id": "w4d14JRZE6hr",
        "colab": {
          "base_uri": "https://localhost:8080/"
        },
        "outputId": "6e2fb646-8f3a-4189-dbb4-5f3d97a6d84c"
      },
      "outputs": [
        {
          "output_type": "stream",
          "name": "stdout",
          "text": [
            "[ 1  3  5  7  9 11 13 15 17 19 21]\n"
          ]
        }
      ],
      "source": [
        "arr = np.arange(1, 22, 2)\n",
        "print(arr)"
      ]
    },
    {
      "cell_type": "markdown",
      "metadata": {
        "id": "SchEY1O7E6hr"
      },
      "source": [
        "## Questão 9\n",
        "\n",
        "Crie um array de 10 com valores aleatórios"
      ]
    },
    {
      "cell_type": "code",
      "execution_count": null,
      "metadata": {
        "id": "MYpySePjE6hs",
        "colab": {
          "base_uri": "https://localhost:8080/"
        },
        "outputId": "140c1b46-b7c0-4a47-f062-50071ae20a54"
      },
      "outputs": [
        {
          "output_type": "stream",
          "name": "stdout",
          "text": [
            "[0.92084239 0.79119765 0.1232042  0.75891722 0.68307339 0.22713203\n",
            " 0.17106554 0.98879217 0.84893387 0.11562155]\n"
          ]
        }
      ],
      "source": [
        "arr = np.random.rand(10)\n",
        "print(arr)"
      ]
    },
    {
      "cell_type": "markdown",
      "metadata": {
        "id": "EFfvM6LIAlfJ"
      },
      "source": [
        "## Questão 10\n",
        "\n",
        "Em estatística, a normalização de uma distribuição de dados pode ser feita subtraindo o valor médio da distribuição de cada valor do conjunto de dados, dividindo o resultado pelo desvio-padrão da distribuição. Escreva uma função que normalize os dados recebidos por um array numpy qualquer, conforme descrito anteriormente."
      ]
    },
    {
      "cell_type": "code",
      "execution_count": null,
      "metadata": {
        "id": "yfho2bziAlfJ"
      },
      "outputs": [],
      "source": [
        "def normalizar(dados):\n",
        "    \n",
        "    media = np.mean(dados)\n",
        "    desvio = np.std(dados)\n",
        "    normalizados = (dados - media) / desvio\n",
        "    \n",
        "    return normalizados"
      ]
    },
    {
      "cell_type": "code",
      "source": [
        "Inicio = 35\n",
        "Fim = 10\n",
        "arr = np.random.rand(100)*(Fim-Inicio) + Inicio\n",
        "normalizado = normalizar(arr)\n",
        "normalizado"
      ],
      "metadata": {
        "colab": {
          "base_uri": "https://localhost:8080/"
        },
        "id": "EVnQkH7cbkhn",
        "outputId": "3cb2f837-0f2c-477c-930c-aae3eb362746"
      },
      "execution_count": null,
      "outputs": [
        {
          "output_type": "execute_result",
          "data": {
            "text/plain": [
              "array([ 0.02344397, -0.27096506, -0.15887826, -1.37564761, -0.31891533,\n",
              "        0.4983186 , -1.53805197, -1.45269116,  0.13775084, -0.71075152,\n",
              "        1.09465585, -1.49754987, -1.21296098, -1.12663194,  1.77106108,\n",
              "        0.43457386,  0.52884843, -1.20831592, -1.29671582, -0.55299073,\n",
              "       -1.75319182,  0.69330733,  0.12936065,  0.00819681,  0.4715353 ,\n",
              "       -0.45125603, -1.24130616, -1.18560075,  1.68691995, -0.36214804,\n",
              "       -0.72666924, -0.15303577,  1.14752866, -0.0888715 ,  1.26796842,\n",
              "        1.77662919, -0.19419304,  0.37114182,  0.96907567,  1.06046231,\n",
              "       -0.52633699, -0.28027311, -0.04638363, -1.35870535, -0.70377263,\n",
              "        0.40042754,  1.45200297, -0.9841009 ,  1.11580882,  0.44938958,\n",
              "       -1.4228486 , -1.68488031, -0.56838268,  1.14028568,  0.55412033,\n",
              "        1.14862603,  1.21883915,  1.74932328,  1.63839803,  1.74377145,\n",
              "        0.60717045, -1.73847011,  1.3832224 ,  0.68300112, -0.30631228,\n",
              "        0.28783509, -0.787066  , -0.75014247,  0.23422399, -1.64458634,\n",
              "        1.71149526, -0.1306775 ,  0.11249118,  0.93320689,  0.15687427,\n",
              "       -1.72054294, -1.58567257,  0.04232406, -0.60021859,  1.57035054,\n",
              "        0.54987898, -0.53492561, -1.33072833, -0.70039165,  0.49694571,\n",
              "        1.0989019 ,  0.56419004, -0.20053281, -0.41949096,  1.14429725,\n",
              "        1.15874033,  1.16161509, -0.37137864, -0.26870165,  0.13810997,\n",
              "       -1.30807105,  1.17260557,  0.09799967, -0.57940129, -0.55691787])"
            ]
          },
          "metadata": {},
          "execution_count": 24
        }
      ]
    },
    {
      "cell_type": "markdown",
      "metadata": {
        "id": "p60_N7ZwAlfK"
      },
      "source": [
        "## Questão 11\n",
        "\n",
        "Escreva uma função em numpy que receba um array contendo notas de uma turma de 100 estudantes. Considere que a nota de aprovação da turma é 5.0. A função deve retornar, em um array numpy, nesta ordem:\n",
        "- a média e o desvio-padrão das notas da turma;\n",
        "- o número de notas maiores que 7.0;\n",
        "- o número de reprovações da turma;\n",
        "- a menor nota da turma;\n",
        "- a maior nota da turma."
      ]
    },
    {
      "cell_type": "code",
      "execution_count": null,
      "metadata": {
        "id": "Q3wkBCFtAlfK"
      },
      "outputs": [],
      "source": [
        "import numpy as np\n",
        "\n",
        "def estatisticas_notas(notas):\n",
        "    \n",
        "    media = np.mean(notas)\n",
        "    desvio = np.std(notas)\n",
        "    notas_acima_7 = np.count_nonzero(notas > 7)\n",
        "    reprovados = np.count_nonzero(notas < 5)\n",
        "    menor_nota = np.min(notas)\n",
        "    maior_nota = np.max(notas)\n",
        "    \n",
        "    return np.array([media, desvio, notas_acima_7, reprovados, menor_nota, maior_nota])"
      ]
    },
    {
      "cell_type": "code",
      "source": [
        "estatisticas_notas(normalizado)"
      ],
      "metadata": {
        "colab": {
          "base_uri": "https://localhost:8080/"
        },
        "id": "NKkJBy4vcS6H",
        "outputId": "5680a12e-3cbd-4fea-e32d-c1aab6d0565c"
      },
      "execution_count": null,
      "outputs": [
        {
          "output_type": "execute_result",
          "data": {
            "text/plain": [
              "array([ 4.75175455e-16,  1.00000000e+00,  0.00000000e+00,  1.00000000e+02,\n",
              "       -1.75319182e+00,  1.77662919e+00])"
            ]
          },
          "metadata": {},
          "execution_count": 29
        }
      ]
    }
  ],
  "metadata": {
    "colab": {
      "provenance": [],
      "include_colab_link": true
    },
    "kernelspec": {
      "display_name": "SUZANO-TECPROG1",
      "language": "python",
      "name": "python3"
    },
    "language_info": {
      "codemirror_mode": {
        "name": "ipython",
        "version": 3
      },
      "file_extension": ".py",
      "mimetype": "text/x-python",
      "name": "python",
      "nbconvert_exporter": "python",
      "pygments_lexer": "ipython3",
      "version": "3.10.6"
    },
    "orig_nbformat": 4,
    "vscode": {
      "interpreter": {
        "hash": "38d4061a99e7c6638a090ce08c14a66640e6088dc5ef74a7f33c8fdd952ca81d"
      }
    }
  },
  "nbformat": 4,
  "nbformat_minor": 0
}